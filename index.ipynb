{
 "cells": [
  {
   "cell_type": "markdown",
   "metadata": {},
   "source": [
    "# JSON - Lab"
   ]
  },
  {
   "cell_type": "markdown",
   "metadata": {},
   "source": [
    "## Introduction\n",
    "\n",
    "In this lab, you'll practice navigating JSON data structures."
   ]
  },
  {
   "cell_type": "markdown",
   "metadata": {},
   "source": [
    "## Objectives\n",
    "\n",
    "You will be able to:\n",
    "\n",
    "* Practice using Python to load and parse JSON documents"
   ]
  },
  {
   "cell_type": "markdown",
   "metadata": {},
   "source": [
    "## Your Task: Find the Total Payments for Each Candidate\n",
    "\n",
    "We will be using the same dataset, `nyc_2001_campaign_finance.json`, as in the previous lesson. Recall that the description is:\n",
    "\n",
    "> A listing of public funds payments for candidates for City office during the 2001 election cycle\n",
    "\n",
    "For added context, the Ciy of New York provides matching funds for eligible contributions made to candidates, using various ratios depending on the contribution amount ([more details here](https://en.wikipedia.org/wiki/New_York_City_Campaign_Finance_Board#The_Campaign_Finance_Program)). So these are not the complete values of all funds raised by these candidates, they are the amounts matched by the city. For that reason we expect that some of the values will be identical for different candidates.\n",
    "\n",
    "Recall also that the dataset is separated into `meta`, which contains metadata, and `data`, which contains the actual campaign finance records. You will need to use the information in `meta` to understand how to interpret the information in `data`.\n",
    "\n",
    "Your goal is to create a list of tuples, where the first value in each tuple is the name of a candidate in the 2001 election, and the second value is the total payments they received. The structure should look like this:\n",
    "\n",
    "```python\n",
    "[\n",
    "    (\"John Smith\", 62184.00),\n",
    "    (\"Jane Doe\", 133146.00),\n",
    "    ...\n",
    "]\n",
    "```\n",
    "\n",
    "The list should contain 284 tuples, since there were 284 candidates."
   ]
  },
  {
   "cell_type": "markdown",
   "metadata": {},
   "source": [
    "## Open the Dataset\n",
    "\n",
    "Import the `json` module, open the `nyc_2001_campaign_finance.json` file using the built-in Python `open` function, and load all of the data from the file into a Python object using `json.load`.\n",
    "\n",
    "Assign the result of `json.load` to the variable name `data`."
   ]
  },
  {
   "cell_type": "code",
   "execution_count": 2,
   "metadata": {},
   "outputs": [],
   "source": [
    "import json"
   ]
  },
  {
   "cell_type": "code",
   "execution_count": 3,
   "metadata": {},
   "outputs": [],
   "source": [
    "# Your code here\n",
    "\n",
    "with open('nyc_2001_campaign_finance.json') as f:\n",
    "    data = json.load(f)"
   ]
  },
  {
   "cell_type": "markdown",
   "metadata": {},
   "source": [
    "Recall the overall structure of this dataset:"
   ]
  },
  {
   "cell_type": "code",
   "execution_count": 4,
   "metadata": {},
   "outputs": [
    {
     "name": "stdout",
     "output_type": "stream",
     "text": [
      "The overall data type is <class 'dict'>\n",
      "The keys are ['meta', 'data']\n",
      "\n",
      "The value associated with the 'meta' key has metadata, including all of these attributes:\n",
      "['id', 'name', 'attribution', 'averageRating', 'category', 'createdAt', 'description', 'displayType', 'downloadCount', 'hideFromCatalog', 'hideFromDataJson', 'indexUpdatedAt', 'newBackend', 'numberOfComments', 'oid', 'provenance', 'publicationAppendEnabled', 'publicationDate', 'publicationGroup', 'publicationStage', 'rowClass', 'rowsUpdatedAt', 'rowsUpdatedBy', 'tableId', 'totalTimesRated', 'viewCount', 'viewLastModified', 'viewType', 'columns', 'grants', 'metadata', 'owner', 'query', 'rights', 'tableAuthor', 'tags', 'flags']\n",
      "\n",
      "The value associated with the 'data' key is a list of 285 records\n"
     ]
    }
   ],
   "source": [
    "# Run this cell without changes\n",
    "\n",
    "print(f\"The overall data type is {type(data)}\")\n",
    "print(f\"The keys are {list(data.keys())}\")\n",
    "print()\n",
    "print(\"The value associated with the 'meta' key has metadata, including all of these attributes:\")\n",
    "print(list(data['meta']['view'].keys()))\n",
    "print()\n",
    "print(f\"The value associated with the 'data' key is a list of {len(data['data'])} records\")"
   ]
  },
  {
   "cell_type": "markdown",
   "metadata": {},
   "source": [
    "## Find the Column Names\n",
    "\n",
    "We know that each record in the data list looks something like this:"
   ]
  },
  {
   "cell_type": "code",
   "execution_count": 5,
   "metadata": {},
   "outputs": [
    {
     "data": {
      "text/plain": [
       "[2,\n",
       " '9D257416-581A-4C42-85CC-B6EAD9DED97F',\n",
       " 2,\n",
       " 1315925633,\n",
       " '392904',\n",
       " 1315925633,\n",
       " '392904',\n",
       " '{\\n}',\n",
       " '2001',\n",
       " 'B4',\n",
       " 'Aboulafia, Sandy',\n",
       " '5',\n",
       " None,\n",
       " '44',\n",
       " 'P',\n",
       " '45410.00',\n",
       " '0',\n",
       " '0',\n",
       " '45410.00']"
      ]
     },
     "execution_count": 5,
     "metadata": {},
     "output_type": "execute_result"
    }
   ],
   "source": [
    "# Run this cell without changes\n",
    "data['data'][1]"
   ]
  },
  {
   "cell_type": "markdown",
   "metadata": {},
   "source": [
    "We could probably guess which of those values is the candidate name, but it's unclear which value is the total payments received. To get that information, we need to look at the metadata.\n",
    "\n",
    "Investigate the value of `data['meta']['view']['columns']`. It currently contains significantly more information than we need. Extract just the values associated with the `name` keys, so we have a list of the column names.\n",
    "\n",
    "The result should look something like this:\n",
    "\n",
    "```python\n",
    "[\n",
    "    \"sid\",\n",
    "    \"id\",\n",
    "    \"position\",\n",
    "    ...\n",
    "]\n",
    "```\n",
    "\n",
    "Name this variable `column_names`."
   ]
  },
  {
   "cell_type": "code",
   "execution_count": 20,
   "metadata": {},
   "outputs": [
    {
     "data": {
      "text/plain": [
       "['sid',\n",
       " 'id',\n",
       " 'position',\n",
       " 'created_at',\n",
       " 'created_meta',\n",
       " 'updated_at',\n",
       " 'updated_meta',\n",
       " 'meta',\n",
       " 'ELECTION',\n",
       " 'CANDID',\n",
       " 'CANDNAME',\n",
       " 'OFFICECD',\n",
       " 'OFFICEBORO',\n",
       " 'OFFICEDIST',\n",
       " 'CANCLASS',\n",
       " 'PRIMARYPAY',\n",
       " 'GENERALPAY',\n",
       " 'RUNOFFPAY',\n",
       " 'TOTALPAY']"
      ]
     },
     "execution_count": 20,
     "metadata": {},
     "output_type": "execute_result"
    }
   ],
   "source": [
    "# Your code here (create more cells as needed)\n",
    "column_names = [x['name'] for x in data['meta']['view']['columns']]\n",
    "column_names"
   ]
  },
  {
   "cell_type": "code",
   "execution_count": 15,
   "metadata": {},
   "outputs": [],
   "source": [
    "# Run this cell without changes\n",
    "\n",
    "# There should be 19 names\n",
    "assert len(column_names) == 19\n",
    "# CANDNAME and TOTALPAY should be in there\n",
    "assert \"CANDNAME\" in column_names and \"TOTALPAY\" in column_names"
   ]
  },
  {
   "cell_type": "markdown",
   "metadata": {},
   "source": [
    "Ok, now we know what each of the columns represents.\n",
    "\n",
    "The columns we are looking for are called `CANDNAME` and `TOTALPAY`. Now that we have this list, we should be able to figure out which of the values in each record lines up with those column names."
   ]
  },
  {
   "cell_type": "markdown",
   "metadata": {},
   "source": [
    "## Loop Over the Records to Find the Names and Payments\n",
    "\n",
    "The data records are contained in `data['data']`. Recall that the first (`0`-th) one is more of a header and should be skipped over.\n",
    "\n",
    "Loop over the records in `data['data']` and extract the name and total payment from the city. Make sure you convert the total payment to a float, then make a tuple representing that candidate. Append the tuple to an overall list of results called `candidate_total_payments`."
   ]
  },
  {
   "cell_type": "code",
   "execution_count": 24,
   "metadata": {},
   "outputs": [
    {
     "data": {
      "text/plain": [
       "[26,\n",
       " '2D3AEA15-20FE-4616-9478-488620DB9650',\n",
       " 26,\n",
       " 1315925633,\n",
       " '392904',\n",
       " 1315925633,\n",
       " '392904',\n",
       " '{\\n}',\n",
       " '2001',\n",
       " '399',\n",
       " 'Brewer, Gale A',\n",
       " '5',\n",
       " None,\n",
       " '6',\n",
       " 'P',\n",
       " '75350.00',\n",
       " '75350.00',\n",
       " '0',\n",
       " '150700.00']"
      ]
     },
     "execution_count": 24,
     "metadata": {},
     "output_type": "execute_result"
    }
   ],
   "source": [
    "data['data'][25]"
   ]
  },
  {
   "cell_type": "code",
   "execution_count": 46,
   "metadata": {},
   "outputs": [],
   "source": [
    "# Your code here (create more cells as needed)\n",
    "candidate_total_payments = []\n",
    "  \n",
    "for candidate in data['data'][1:]:\n",
    "    \n",
    "    # candidate[10] = name, candidate[18] = total contribution \n",
    "    candidate_total_payments.append(tuple([candidate[10], float(candidate[18])])) "
   ]
  },
  {
   "cell_type": "code",
   "execution_count": 44,
   "metadata": {},
   "outputs": [],
   "source": [
    "# Run this cell without changes\n",
    "\n",
    "# There should be 284 records\n",
    "assert len(candidate_total_payments) == 284\n",
    "\n",
    "# Each record should contain a tuple\n",
    "assert type(candidate_total_payments[0]) == tuple\n",
    "\n",
    "# That tuple should contain a string and a number\n",
    "assert len(candidate_total_payments[0]) == 2\n",
    "assert type(candidate_total_payments[0][0]) == str\n",
    "assert type(candidate_total_payments[0][1]) == float"
   ]
  },
  {
   "cell_type": "markdown",
   "metadata": {},
   "source": [
    "Now that we have this result, we can answer questions like: *which candidates received the most total payments from the city*?"
   ]
  },
  {
   "cell_type": "code",
   "execution_count": 45,
   "metadata": {},
   "outputs": [
    {
     "data": {
      "text/plain": [
       "[('Green, Mark', 4534230.0),\n",
       " ('Ferrer, Fernando', 2871933.0),\n",
       " ('Hevesi, Alan G', 2641247.0),\n",
       " ('Vallone, Peter F', 2458534.0),\n",
       " ('Gotbaum, Betsy F', 1625090.0),\n",
       " ('Berman, Herbert E', 1576860.0),\n",
       " ('DiBrienza, Stephen', 1336655.0),\n",
       " ('Stringer, Scott M', 1223721.0),\n",
       " ('Markowitz, Marty', 1166294.0),\n",
       " ('Thompson, Jr., William C', 1096359.0)]"
      ]
     },
     "execution_count": 45,
     "metadata": {},
     "output_type": "execute_result"
    }
   ],
   "source": [
    "# Run this cell without changes\n",
    "\n",
    "# Print the top 10 candidates by total payments\n",
    "sorted(candidate_total_payments, key=lambda x: x[1], reverse=True)[:10]"
   ]
  },
  {
   "cell_type": "markdown",
   "metadata": {},
   "source": [
    "Since you found all of the column names, it is also possible to display all of the data in a nice tabular format using pandas. That code would look like this:"
   ]
  },
  {
   "cell_type": "code",
   "execution_count": 41,
   "metadata": {},
   "outputs": [
    {
     "data": {
      "text/html": [
       "<div>\n",
       "<style scoped>\n",
       "    .dataframe tbody tr th:only-of-type {\n",
       "        vertical-align: middle;\n",
       "    }\n",
       "\n",
       "    .dataframe tbody tr th {\n",
       "        vertical-align: top;\n",
       "    }\n",
       "\n",
       "    .dataframe thead th {\n",
       "        text-align: right;\n",
       "    }\n",
       "</style>\n",
       "<table border=\"1\" class=\"dataframe\">\n",
       "  <thead>\n",
       "    <tr style=\"text-align: right;\">\n",
       "      <th></th>\n",
       "      <th>sid</th>\n",
       "      <th>id</th>\n",
       "      <th>position</th>\n",
       "      <th>created_at</th>\n",
       "      <th>created_meta</th>\n",
       "      <th>updated_at</th>\n",
       "      <th>updated_meta</th>\n",
       "      <th>meta</th>\n",
       "      <th>ELECTION</th>\n",
       "      <th>CANDID</th>\n",
       "      <th>CANDNAME</th>\n",
       "      <th>OFFICECD</th>\n",
       "      <th>OFFICEBORO</th>\n",
       "      <th>OFFICEDIST</th>\n",
       "      <th>CANCLASS</th>\n",
       "      <th>PRIMARYPAY</th>\n",
       "      <th>GENERALPAY</th>\n",
       "      <th>RUNOFFPAY</th>\n",
       "      <th>TOTALPAY</th>\n",
       "    </tr>\n",
       "  </thead>\n",
       "  <tbody>\n",
       "    <tr>\n",
       "      <th>0</th>\n",
       "      <td>2</td>\n",
       "      <td>9D257416-581A-4C42-85CC-B6EAD9DED97F</td>\n",
       "      <td>2</td>\n",
       "      <td>1315925633</td>\n",
       "      <td>392904</td>\n",
       "      <td>1315925633</td>\n",
       "      <td>392904</td>\n",
       "      <td>{\\n}</td>\n",
       "      <td>2001</td>\n",
       "      <td>B4</td>\n",
       "      <td>Aboulafia, Sandy</td>\n",
       "      <td>5</td>\n",
       "      <td>None</td>\n",
       "      <td>44</td>\n",
       "      <td>P</td>\n",
       "      <td>45410.00</td>\n",
       "      <td>0</td>\n",
       "      <td>0</td>\n",
       "      <td>45410.00</td>\n",
       "    </tr>\n",
       "    <tr>\n",
       "      <th>1</th>\n",
       "      <td>3</td>\n",
       "      <td>B80D7891-93CF-49E8-86E8-182B618E68F2</td>\n",
       "      <td>3</td>\n",
       "      <td>1315925633</td>\n",
       "      <td>392904</td>\n",
       "      <td>1315925633</td>\n",
       "      <td>392904</td>\n",
       "      <td>{\\n}</td>\n",
       "      <td>2001</td>\n",
       "      <td>445</td>\n",
       "      <td>Adams, Jackie R</td>\n",
       "      <td>5</td>\n",
       "      <td>None</td>\n",
       "      <td>7</td>\n",
       "      <td>P</td>\n",
       "      <td>11073.00</td>\n",
       "      <td>0</td>\n",
       "      <td>0</td>\n",
       "      <td>11073.00</td>\n",
       "    </tr>\n",
       "    <tr>\n",
       "      <th>2</th>\n",
       "      <td>4</td>\n",
       "      <td>BB012003-78F5-406D-8A87-7FF8A425EE3F</td>\n",
       "      <td>4</td>\n",
       "      <td>1315925633</td>\n",
       "      <td>392904</td>\n",
       "      <td>1315925633</td>\n",
       "      <td>392904</td>\n",
       "      <td>{\\n}</td>\n",
       "      <td>2001</td>\n",
       "      <td>HF</td>\n",
       "      <td>Addabbo, Joseph P</td>\n",
       "      <td>5</td>\n",
       "      <td>None</td>\n",
       "      <td>32</td>\n",
       "      <td>P</td>\n",
       "      <td>75350.00</td>\n",
       "      <td>73970.00</td>\n",
       "      <td>0</td>\n",
       "      <td>149320.00</td>\n",
       "    </tr>\n",
       "    <tr>\n",
       "      <th>3</th>\n",
       "      <td>5</td>\n",
       "      <td>945825F9-2F5D-47C2-A16B-75B93E61E1AD</td>\n",
       "      <td>5</td>\n",
       "      <td>1315925633</td>\n",
       "      <td>392904</td>\n",
       "      <td>1315925633</td>\n",
       "      <td>392904</td>\n",
       "      <td>{\\n}</td>\n",
       "      <td>2001</td>\n",
       "      <td>IR</td>\n",
       "      <td>Alamo-Estrada, Agustin</td>\n",
       "      <td>5</td>\n",
       "      <td>None</td>\n",
       "      <td>14</td>\n",
       "      <td>P</td>\n",
       "      <td>25000.00</td>\n",
       "      <td>2400.00</td>\n",
       "      <td>0</td>\n",
       "      <td>27400.00</td>\n",
       "    </tr>\n",
       "    <tr>\n",
       "      <th>4</th>\n",
       "      <td>6</td>\n",
       "      <td>9546F502-39D6-4340-B37E-60682EB22274</td>\n",
       "      <td>6</td>\n",
       "      <td>1315925633</td>\n",
       "      <td>392904</td>\n",
       "      <td>1315925633</td>\n",
       "      <td>392904</td>\n",
       "      <td>{\\n}</td>\n",
       "      <td>2001</td>\n",
       "      <td>BR</td>\n",
       "      <td>Allen, William A</td>\n",
       "      <td>5</td>\n",
       "      <td>None</td>\n",
       "      <td>9</td>\n",
       "      <td>P</td>\n",
       "      <td>62990.00</td>\n",
       "      <td>0</td>\n",
       "      <td>0</td>\n",
       "      <td>62990.00</td>\n",
       "    </tr>\n",
       "    <tr>\n",
       "      <th>...</th>\n",
       "      <td>...</td>\n",
       "      <td>...</td>\n",
       "      <td>...</td>\n",
       "      <td>...</td>\n",
       "      <td>...</td>\n",
       "      <td>...</td>\n",
       "      <td>...</td>\n",
       "      <td>...</td>\n",
       "      <td>...</td>\n",
       "      <td>...</td>\n",
       "      <td>...</td>\n",
       "      <td>...</td>\n",
       "      <td>...</td>\n",
       "      <td>...</td>\n",
       "      <td>...</td>\n",
       "      <td>...</td>\n",
       "      <td>...</td>\n",
       "      <td>...</td>\n",
       "      <td>...</td>\n",
       "    </tr>\n",
       "    <tr>\n",
       "      <th>279</th>\n",
       "      <td>281</td>\n",
       "      <td>C50E6A4C-BDE9-4F12-97F4-95D467013540</td>\n",
       "      <td>281</td>\n",
       "      <td>1315925633</td>\n",
       "      <td>392904</td>\n",
       "      <td>1315925633</td>\n",
       "      <td>392904</td>\n",
       "      <td>{\\n}</td>\n",
       "      <td>2001</td>\n",
       "      <td>537</td>\n",
       "      <td>Wilson, John H</td>\n",
       "      <td>5</td>\n",
       "      <td>None</td>\n",
       "      <td>13</td>\n",
       "      <td>P</td>\n",
       "      <td>0</td>\n",
       "      <td>0</td>\n",
       "      <td>0</td>\n",
       "      <td>0</td>\n",
       "    </tr>\n",
       "    <tr>\n",
       "      <th>280</th>\n",
       "      <td>282</td>\n",
       "      <td>04C6D19F-FF63-47B0-B26D-3B8F98B4C16B</td>\n",
       "      <td>282</td>\n",
       "      <td>1315925633</td>\n",
       "      <td>392904</td>\n",
       "      <td>1315925633</td>\n",
       "      <td>392904</td>\n",
       "      <td>{\\n}</td>\n",
       "      <td>2001</td>\n",
       "      <td>559</td>\n",
       "      <td>Wooten, Donald T</td>\n",
       "      <td>5</td>\n",
       "      <td>None</td>\n",
       "      <td>42</td>\n",
       "      <td>P</td>\n",
       "      <td>0</td>\n",
       "      <td>0</td>\n",
       "      <td>0</td>\n",
       "      <td>0</td>\n",
       "    </tr>\n",
       "    <tr>\n",
       "      <th>281</th>\n",
       "      <td>283</td>\n",
       "      <td>A451E0E9-D382-4A97-AAD8-D7D382055F8D</td>\n",
       "      <td>283</td>\n",
       "      <td>1315925633</td>\n",
       "      <td>392904</td>\n",
       "      <td>1315925633</td>\n",
       "      <td>392904</td>\n",
       "      <td>{\\n}</td>\n",
       "      <td>2001</td>\n",
       "      <td>280</td>\n",
       "      <td>Yassky, David</td>\n",
       "      <td>5</td>\n",
       "      <td>None</td>\n",
       "      <td>33</td>\n",
       "      <td>P</td>\n",
       "      <td>75350.00</td>\n",
       "      <td>75350.00</td>\n",
       "      <td>0</td>\n",
       "      <td>150700.00</td>\n",
       "    </tr>\n",
       "    <tr>\n",
       "      <th>282</th>\n",
       "      <td>284</td>\n",
       "      <td>E84BCD0C-D6F4-450F-B55B-3199A265C781</td>\n",
       "      <td>284</td>\n",
       "      <td>1315925633</td>\n",
       "      <td>392904</td>\n",
       "      <td>1315925633</td>\n",
       "      <td>392904</td>\n",
       "      <td>{\\n}</td>\n",
       "      <td>2001</td>\n",
       "      <td>274</td>\n",
       "      <td>Zapiti, Mike</td>\n",
       "      <td>5</td>\n",
       "      <td>None</td>\n",
       "      <td>22</td>\n",
       "      <td>P</td>\n",
       "      <td>12172.00</td>\n",
       "      <td>0</td>\n",
       "      <td>0</td>\n",
       "      <td>12172.00</td>\n",
       "    </tr>\n",
       "    <tr>\n",
       "      <th>283</th>\n",
       "      <td>285</td>\n",
       "      <td>5BBC9676-2119-4FB5-9DAB-DE3F71B7681A</td>\n",
       "      <td>285</td>\n",
       "      <td>1315925633</td>\n",
       "      <td>392904</td>\n",
       "      <td>1315925633</td>\n",
       "      <td>392904</td>\n",
       "      <td>{\\n}</td>\n",
       "      <td>2001</td>\n",
       "      <td>442</td>\n",
       "      <td>Zett, Lori M</td>\n",
       "      <td>5</td>\n",
       "      <td>None</td>\n",
       "      <td>24</td>\n",
       "      <td>P</td>\n",
       "      <td>0</td>\n",
       "      <td>0</td>\n",
       "      <td>0</td>\n",
       "      <td>0</td>\n",
       "    </tr>\n",
       "  </tbody>\n",
       "</table>\n",
       "<p>284 rows × 19 columns</p>\n",
       "</div>"
      ],
      "text/plain": [
       "     sid                                    id  position  created_at  \\\n",
       "0      2  9D257416-581A-4C42-85CC-B6EAD9DED97F         2  1315925633   \n",
       "1      3  B80D7891-93CF-49E8-86E8-182B618E68F2         3  1315925633   \n",
       "2      4  BB012003-78F5-406D-8A87-7FF8A425EE3F         4  1315925633   \n",
       "3      5  945825F9-2F5D-47C2-A16B-75B93E61E1AD         5  1315925633   \n",
       "4      6  9546F502-39D6-4340-B37E-60682EB22274         6  1315925633   \n",
       "..   ...                                   ...       ...         ...   \n",
       "279  281  C50E6A4C-BDE9-4F12-97F4-95D467013540       281  1315925633   \n",
       "280  282  04C6D19F-FF63-47B0-B26D-3B8F98B4C16B       282  1315925633   \n",
       "281  283  A451E0E9-D382-4A97-AAD8-D7D382055F8D       283  1315925633   \n",
       "282  284  E84BCD0C-D6F4-450F-B55B-3199A265C781       284  1315925633   \n",
       "283  285  5BBC9676-2119-4FB5-9DAB-DE3F71B7681A       285  1315925633   \n",
       "\n",
       "    created_meta  updated_at updated_meta  meta ELECTION CANDID  \\\n",
       "0         392904  1315925633       392904  {\\n}     2001     B4   \n",
       "1         392904  1315925633       392904  {\\n}     2001    445   \n",
       "2         392904  1315925633       392904  {\\n}     2001     HF   \n",
       "3         392904  1315925633       392904  {\\n}     2001     IR   \n",
       "4         392904  1315925633       392904  {\\n}     2001     BR   \n",
       "..           ...         ...          ...   ...      ...    ...   \n",
       "279       392904  1315925633       392904  {\\n}     2001    537   \n",
       "280       392904  1315925633       392904  {\\n}     2001    559   \n",
       "281       392904  1315925633       392904  {\\n}     2001    280   \n",
       "282       392904  1315925633       392904  {\\n}     2001    274   \n",
       "283       392904  1315925633       392904  {\\n}     2001    442   \n",
       "\n",
       "                   CANDNAME OFFICECD OFFICEBORO OFFICEDIST CANCLASS  \\\n",
       "0          Aboulafia, Sandy        5       None         44        P   \n",
       "1           Adams, Jackie R        5       None          7        P   \n",
       "2         Addabbo, Joseph P        5       None         32        P   \n",
       "3    Alamo-Estrada, Agustin        5       None         14        P   \n",
       "4          Allen, William A        5       None          9        P   \n",
       "..                      ...      ...        ...        ...      ...   \n",
       "279          Wilson, John H        5       None         13        P   \n",
       "280        Wooten, Donald T        5       None         42        P   \n",
       "281           Yassky, David        5       None         33        P   \n",
       "282            Zapiti, Mike        5       None         22        P   \n",
       "283            Zett, Lori M        5       None         24        P   \n",
       "\n",
       "    PRIMARYPAY GENERALPAY RUNOFFPAY   TOTALPAY  \n",
       "0     45410.00          0         0   45410.00  \n",
       "1     11073.00          0         0   11073.00  \n",
       "2     75350.00   73970.00         0  149320.00  \n",
       "3     25000.00    2400.00         0   27400.00  \n",
       "4     62990.00          0         0   62990.00  \n",
       "..         ...        ...       ...        ...  \n",
       "279          0          0         0          0  \n",
       "280          0          0         0          0  \n",
       "281   75350.00   75350.00         0  150700.00  \n",
       "282   12172.00          0         0   12172.00  \n",
       "283          0          0         0          0  \n",
       "\n",
       "[284 rows x 19 columns]"
      ]
     },
     "execution_count": 41,
     "metadata": {},
     "output_type": "execute_result"
    }
   ],
   "source": [
    "# Run this cell without changes\n",
    "\n",
    "import pandas as pd\n",
    "\n",
    "pd.DataFrame(data=data['data'][1:], columns=column_names)"
   ]
  },
  {
   "cell_type": "markdown",
   "metadata": {},
   "source": [
    "## Summary\n",
    "\n",
    "Congratulations! You've started exploring some more JSON data structures used for the web and got to practice data munging and exploring!"
   ]
  }
 ],
 "metadata": {
  "kernelspec": {
   "display_name": "Python 3",
   "language": "python",
   "name": "python3"
  },
  "language_info": {
   "codemirror_mode": {
    "name": "ipython",
    "version": 3
   },
   "file_extension": ".py",
   "mimetype": "text/x-python",
   "name": "python",
   "nbconvert_exporter": "python",
   "pygments_lexer": "ipython3",
   "version": "3.8.5"
  },
  "toc": {
   "base_numbering": 1,
   "nav_menu": {},
   "number_sections": true,
   "sideBar": true,
   "skip_h1_title": false,
   "title_cell": "Table of Contents",
   "title_sidebar": "Contents",
   "toc_cell": false,
   "toc_position": {},
   "toc_section_display": true,
   "toc_window_display": false
  }
 },
 "nbformat": 4,
 "nbformat_minor": 2
}
